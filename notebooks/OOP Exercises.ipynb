{
 "cells": [
  {
   "cell_type": "markdown",
   "metadata": {},
   "source": [
    "### <font color=\"cobalt\">Exercises</font>\n",
    "\n",
    "<u>**Exercise #1**</u>\n",
    "\n",
    "In this exercise you'll model a carbon monoxide (CO) molecule's vibrations.  As for CO<sub>2</sub>, the mass of the oxygen atom is $29200 \\, m_e$ and that of carbon is $21900 \\, m_e$.  The equilibrium bond length is a little smaller than for $\\mathsf{CO_2}$, here it's $2.14 \\, a_o$, but the spring constant is larger, $1.27 \\, E_h/a_o^2$.  Create a modified version of the `setupCO2` function to use these values to model and plot the vibrations of the C and O atoms if they're displaced $2.0 \\, a_o$ from their equilibrium positions in opposite directions.  Comment on the reasonableness of the oscillation period and the amplitudes, as compared with the plot for $\\mathsf{CO_2}$.  Determine analytically what the ratio of amplitudes should be, and compare with the numerical value.  Do the two values agree?"
   ]
  },
  {
   "cell_type": "code",
   "execution_count": 1,
   "metadata": {
    "collapsed": true,
    "jupyter": {
     "outputs_hidden": true
    }
   },
   "outputs": [],
   "source": [
    "%matplotlib inline\n",
    "from matplotlib.pyplot import plot, xlabel, ylabel\n",
    "import numpy as np"
   ]
  },
  {
   "cell_type": "code",
   "execution_count": 2,
   "metadata": {
    "collapsed": true,
    "jupyter": {
     "outputs_hidden": true
    }
   },
   "outputs": [],
   "source": [
    "class Balls():\n",
    "    def __init__ (self, x, v, m, nextx=0, nextv=0):\n",
    "        self.m = m\n",
    "        self.x = x\n",
    "        self.v = v\n",
    "        self.nextx = x        # to store new position\n",
    "        self.nextv = v        # to store new velocity\n",
    "        self.springs = []\n",
    "        self.otherballs = []\n",
    "    \n",
    "    def nextPos(self, dt): \n",
    "        F = 0 \n",
    "        for i in range(len(self.otherballs)):\n",
    "            length = self.dist(self.otherballs[i])        # now called as method on \"self\"\n",
    "            direction = self.fsign(self.otherballs[i])    # now called as method on \"self\"\n",
    "            F = F - direction * self.springs[i].K * (length - self.springs[i].L0) \n",
    "        a = F / self.m\n",
    "        self.nextv = self.nextv + a * dt            # compute new position\n",
    "        self.nextx = self.nextx + self.nextv * dt   # compute new velocity\n",
    "       \n",
    "    def move(self):\n",
    "        self.x = self.nextx     # update position\n",
    "        self.v = self.nextv     # update velocity\n",
    "        \n",
    "    def dist(self, otherball):   # changed generic \"ball1\" & \"ball2\" to \"self\" & \"otherball\"\n",
    "        from math import sqrt\n",
    "        deltax = self.x - otherball.x\n",
    "        deltay = 0\n",
    "        return sqrt(deltax**2 + deltay**2)\n",
    "\n",
    "    def fsign(self, otherball):  # changed generic \"ball1\" & \"ball2\" to \"self\" & \"otherball\"\n",
    "        from numpy import sign\n",
    "        return sign(self.x - otherball.x)\n",
    "\n",
    "class Spring():\n",
    "    def __init__ (self, L0, K):\n",
    "        self.L0 = L0   # rest length\n",
    "        self.K = K     # spring constant\n",
    "        \n",
    "def moveAll(balls, dt, tf):\n",
    "    '''Move a set of balls (input as a list) \n",
    "    from t = 0 to t = tf using a time step of dt.'''\n",
    "    \n",
    "    from numpy import array\n",
    "    \n",
    "    num = len(balls)\n",
    "    bx = [[] for i in range(num)]   # create empty list of list of ball positions; \n",
    "                                    # each list holds the positions for one ball\n",
    "    time = []\n",
    "    t = 0.\n",
    "\n",
    "    while t < tf:\n",
    "        # Find the new positions of all of the balls\n",
    "        for i in range(num): \n",
    "            balls[i].nextPos(dt)\n",
    "            \n",
    "        # We move the balls after computing all of their positions\n",
    "        for j in range(num):\n",
    "            balls[j].move()\n",
    "            bx[j].append(balls[j].x)\n",
    "            \n",
    "        time.append(t)\n",
    "        t = t + dt\n",
    "        \n",
    "    return time, bx"
   ]
  },
  {
   "cell_type": "code",
   "execution_count": 3,
   "metadata": {},
   "outputs": [],
   "source": [
    "def setupCO(nballs, nsprings):\n",
    "    '''Create lists of ball and spring instances, \n",
    "    and connect them to each other, to model the \n",
    "    vibration of a (linear) CO2 molecule.'''\n",
    "    \n",
    "    # Create list of ball instances\n",
    "    b = []\n",
    "    b.append(Balls(1., 0.0, 29200))\n",
    "    b.append(Balls(-1., 0.0, 21900))\n",
    "#   b.append(Balls(-2.2, 0.0, 29200))\n",
    "\n",
    "    # Create list of (identical) spring instances\n",
    "    s = []\n",
    "    for i in range(nsprings):\n",
    "        s.append(Spring(2.14, 1.27))\n",
    "\n",
    "    # Connect springs to balls\n",
    "    for i in range(nballs):\n",
    "        for j in range(nsprings):\n",
    "            if ((j == i) or (i-j == 1)):  # balls connect only to neighboring springs\n",
    "                b[i].springs.append(s[j])\n",
    "\n",
    "    # Connect each ball to the others\n",
    "    for i in range(nballs):\n",
    "        for j in range(nballs):\n",
    "            if abs(j - i) == 1:   # ensures that each ball is connected only to nearest neighbors\n",
    "                b[i].otherballs.append(b[j])\n",
    "    \n",
    "    return b, s"
   ]
  },
  {
   "cell_type": "code",
   "execution_count": 4,
   "metadata": {},
   "outputs": [
    {
     "data": {
      "text/plain": [
       "<matplotlib.text.Text at 0x7f2ea3ed6eb8>"
      ]
     },
     "execution_count": 4,
     "metadata": {},
     "output_type": "execute_result"
    },
    {
     "data": {
      "image/png": "[encoded data removed]",
      "text/plain": [
       "<matplotlib.figure.Figure at 0x7f2ea3ed6390>"
      ]
     },
     "metadata": {},
     "output_type": "display_data"
    }
   ],
   "source": [
    "b, s = setupCO(2,1)\n",
    "times, ballpos = moveAll(b, 0.1, 2000)\n",
    "\n",
    "plot(ballpos[0], times, 'g.')\n",
    "plot(ballpos[1], times, 'r.')\n",
    "ylabel(\"Time $\\\\rightarrow$\")\n",
    "xlabel(\"Position\")"
   ]
  },
  {
   "cell_type": "code",
   "execution_count": 5,
   "metadata": {},
   "outputs": [
    {
     "data": {
      "text/plain": [
       "0.75000000000008138"
      ]
     },
     "execution_count": 5,
     "metadata": {},
     "output_type": "execute_result"
    }
   ],
   "source": [
    "(max(ballpos[0])-min(ballpos[0]))/(max(ballpos[1])-min(ballpos[1]))"
   ]
  },
  {
   "cell_type": "code",
   "execution_count": 6,
   "metadata": {},
   "outputs": [
    {
     "data": {
      "text/plain": [
       "0.75"
      ]
     },
     "execution_count": 6,
     "metadata": {},
     "output_type": "execute_result"
    }
   ],
   "source": [
    "219./292"
   ]
  },
  {
   "cell_type": "code",
   "execution_count": 7,
   "metadata": {},
   "outputs": [
    {
     "data": {
      "text/plain": [
       "623.7076070512173"
      ]
     },
     "execution_count": 7,
     "metadata": {},
     "output_type": "execute_result"
    }
   ],
   "source": [
    "(1.27/(1/21900.+1/29200.)**(-1))**(-1/2)*2*np.pi"
   ]
  },
  {
   "cell_type": "code",
   "execution_count": null,
   "metadata": {
    "collapsed": true,
    "jupyter": {
     "outputs_hidden": true
    }
   },
   "outputs": [],
   "source": []
  }
 ],
 "metadata": {
  "kernelspec": {
   "display_name": "Python 3",
   "language": "python",
   "name": "python3"
  },
  "language_info": {
   "codemirror_mode": {
    "name": "ipython",
    "version": 3
   },
   "file_extension": ".py",
   "mimetype": "text/x-python",
   "name": "python",
   "nbconvert_exporter": "python",
   "pygments_lexer": "ipython3",
   "version": "3.8.1"
  }
 },
 "nbformat": 4,
 "nbformat_minor": 4
}
