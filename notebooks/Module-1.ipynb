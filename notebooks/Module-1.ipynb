{
 "cells": [
  {
   "cell_type": "markdown",
   "metadata": {},
   "source": [
    "# TIDES exercise solutions for Module 1, completed by Alex Chartrand"
   ]
  },
  {
   "cell_type": "markdown",
   "metadata": {},
   "source": [
    "**Exercise \\#1**\n",
    "\n",
    "Write code to convert a person's age in years into seconds and display the result.  Apply it to your own age.  (Assume 365 days/year.) "
   ]
  },
  {
   "cell_type": "code",
   "execution_count": 1,
   "metadata": {},
   "outputs": [
    {
     "data": {
      "text/plain": [
       "1009152000"
      ]
     },
     "execution_count": 1,
     "metadata": {},
     "output_type": "execute_result"
    }
   ],
   "source": [
    "def age_in_seconds(years):\n",
    "    return years * 365 * 24 * 60 * 60\n",
    "\n",
    "age_in_seconds(32)"
   ]
  },
  {
   "cell_type": "markdown",
   "metadata": {},
   "source": [
    "**Exercise \\#2**\n",
    "\n",
    "Write code that first defines `fine` as 0.00729735257 (the \"fine structure constant\"), and then prints \"The value of fine is: \" in the following ways:\n",
    "\n",
    "(a) \"fine\" with six digits after the decimal  \n",
    "(b) \"fine\" to the 5th power, written in scientific notation with four digits after the decimal  \n",
    "(c) \"fine\" + 1 in integer format"
   ]
  },
  {
   "cell_type": "code",
   "execution_count": 2,
   "metadata": {},
   "outputs": [
    {
     "name": "stdout",
     "output_type": "stream",
     "text": [
      "The value of fine is 0.007297\n",
      "The value of fine is 2.0693e-11\n",
      "The value of fine is 1\n"
     ]
    }
   ],
   "source": [
    "fine = 1/137.035999 # fine structure constant\n",
    "\n",
    "print(\"The value of fine is {:.6f}\".format(fine))\n",
    "print(\"The value of fine is {:.4e}\".format(fine**5))\n",
    "print(\"The value of fine is {:}\".format(int(fine+1)))"
   ]
  },
  {
   "cell_type": "markdown",
   "metadata": {},
   "source": [
    "**Exercise \\#3**\n",
    "\n",
    "Write a program that asks the user to input an integer, adds 10 to the number, and then tells the user what the final result is *as a floating-point number*.  "
   ]
  },
  {
   "cell_type": "code",
   "execution_count": 3,
   "metadata": {},
   "outputs": [
    {
     "name": "stdin",
     "output_type": "stream",
     "text": [
      "Please input an integer. 32\n"
     ]
    },
    {
     "name": "stdout",
     "output_type": "stream",
     "text": [
      "Adding ten to your number yields 42.000000.\n"
     ]
    }
   ],
   "source": [
    "def add_ten():\n",
    "    number = input(\"Please input an integer.\")\n",
    "    number = int(number)\n",
    "    number += 10\n",
    "    return print(\"Adding ten to your number yields {:f}.\".format(number))\n",
    "\n",
    "add_ten()"
   ]
  },
  {
   "cell_type": "markdown",
   "metadata": {},
   "source": [
    "**Exercise \\#4**\n",
    "\n",
    "Write code to interchange the second and third elements of a general list and try it on the list  `['One', 'b', 3, 'iv']`."
   ]
  },
  {
   "cell_type": "code",
   "execution_count": 4,
   "metadata": {},
   "outputs": [
    {
     "data": {
      "text/plain": [
       "['One', 3, 'b', 'iv']"
      ]
     },
     "execution_count": 4,
     "metadata": {},
     "output_type": "execute_result"
    }
   ],
   "source": [
    "def interchange(a_list):\n",
    "    second = a_list[1]\n",
    "    third = a_list[2]\n",
    "    a_list[1] = third\n",
    "    a_list[2] = second\n",
    "    return a_list\n",
    "\n",
    "example_list = ['One', 'b', 3, 'iv']\n",
    "interchange(example_list)"
   ]
  },
  {
   "cell_type": "markdown",
   "metadata": {},
   "source": [
    "**Exercise \\#5**\n",
    "\n",
    "(a) Write code that asks the user to input a small integer (call it *n*), and then prints that number *n* times.  (b) Create a second version that prints in the following way:\n",
    "\n",
    "Output \\#1 is 1 <br/>\n",
    "Output \\#2 is 2 <br/>\n",
    "etc., up to the small integer."
   ]
  },
  {
   "cell_type": "code",
   "execution_count": 5,
   "metadata": {},
   "outputs": [
    {
     "name": "stdin",
     "output_type": "stream",
     "text": [
      "Please type an integer. 7\n"
     ]
    },
    {
     "name": "stdout",
     "output_type": "stream",
     "text": [
      "7\n",
      "7\n",
      "7\n",
      "7\n",
      "7\n",
      "7\n",
      "7\n"
     ]
    },
    {
     "name": "stdin",
     "output_type": "stream",
     "text": [
      "Please type an integer. 7\n"
     ]
    },
    {
     "name": "stdout",
     "output_type": "stream",
     "text": [
      "Output #1 is 1\n",
      "Output #2 is 2\n",
      "Output #3 is 3\n",
      "Output #4 is 4\n",
      "Output #5 is 5\n",
      "Output #6 is 6\n",
      "Output #7 is 7\n"
     ]
    }
   ],
   "source": [
    "def print_outputs():\n",
    "    n = input(\"Please type an integer.\")\n",
    "    n = int(n)\n",
    "    for i in range(n):\n",
    "        print(n)\n",
    "\n",
    "def type_outputs():\n",
    "    n = input(\"Please type an integer.\")\n",
    "    n = int(n)\n",
    "    for i in range(n):\n",
    "        print(\"Output #{:} is {:}\".format(i+1, i+1))\n",
    "        \n",
    "print_outputs()\n",
    "type_outputs()"
   ]
  },
  {
   "cell_type": "markdown",
   "metadata": {},
   "source": [
    "**Exercise \\#6**\n",
    "\n",
    "Write code to pick out the letters whose positions in a word are divisible by 3, using slicing.  (That is, you want to pick out the 3rd, 6th, 9th, etc. letters.)   Apply your code to the word 'supercalifragilistic'.  Remember that Python numbers lists and string elements starting with an index of `0`."
   ]
  },
  {
   "cell_type": "code",
   "execution_count": 6,
   "metadata": {},
   "outputs": [
    {
     "data": {
      "text/plain": [
       "'pcialt'"
      ]
     },
     "execution_count": 6,
     "metadata": {},
     "output_type": "execute_result"
    }
   ],
   "source": [
    "def easy_way(word):\n",
    "    if type(word) != str:\n",
    "        print('Input must be a string!')\n",
    "    return word[2::3]\n",
    "\n",
    "easy_way('supercalifragilistic')"
   ]
  },
  {
   "cell_type": "markdown",
   "metadata": {},
   "source": [
    "**Exercise \\#7**\n",
    "\n",
    "Write code to pick out the letters in a word whose positions are divisible by 3, using a loop.  Apply it to 'supercalifragilistic', as before."
   ]
  },
  {
   "cell_type": "code",
   "execution_count": 7,
   "metadata": {},
   "outputs": [
    {
     "data": {
      "text/plain": [
       "'pcialt'"
      ]
     },
     "execution_count": 7,
     "metadata": {},
     "output_type": "execute_result"
    }
   ],
   "source": [
    "def slice_every_three(word):\n",
    "    if type(word) != str:\n",
    "        print('Input must be a string!')\n",
    "    outword = ''\n",
    "    for i in range(int(len(word)/3)):\n",
    "        outword = outword + word[2 + 3*i]\n",
    "    return outword\n",
    "\n",
    "slice_every_three('supercalifragilistic')"
   ]
  },
  {
   "cell_type": "markdown",
   "metadata": {},
   "source": [
    "**Exercise \\#8**\n",
    "\n",
    "Write a function to output the value of the Gaussian function $f(x;m,\\sigma) = \\dfrac{1}{\\sqrt{2 \\pi} \\sigma} \\exp \\left[ -\\dfrac{1}{2} \\left(\\dfrac{x-m}{\\sigma}\\right)^2 \\right]$, where $m$, $\\sigma$, and $x$ are inputs to the function.  (We're thinking of $x$ as a variable and $m$ and $\\sigma$ as parameters.)  Evaluate the function for $m = 0$, $\\sigma = 2$, $x = 1$.  \n",
    "\n",
    "*Notes*: (i) the $\\sigma$ in the first factor is not inside the square root; (ii) \"$\\exp(x)$\" means $e^x$."
   ]
  },
  {
   "cell_type": "code",
   "execution_count": 8,
   "metadata": {},
   "outputs": [
    {
     "data": {
      "text/plain": [
       "0.17603266338214976"
      ]
     },
     "execution_count": 8,
     "metadata": {},
     "output_type": "execute_result"
    }
   ],
   "source": [
    "def gaussian(x, m, sigma):\n",
    "    import numpy as np\n",
    "    return np.math.tau**-0.5 / sigma * np.exp(-((x - m)/sigma)**2/2)\n",
    "\n",
    "gaussian(1, 0, 2)"
   ]
  },
  {
   "cell_type": "markdown",
   "metadata": {},
   "source": [
    "**Exercise \\#9**\n",
    "\n",
    "Compute the value of the vector-matrix product $\\mathbf{a} \\cdot \\mathbf{B} \\cdot \\mathbf{c}$, where $\\mathbf{a} = [1, 2, 3, 4]$, $\\mathbf{B}$ is the $4 \\times 4$ identity matrix, and $\\mathbf{c} = [1, 2, 3, 4]$ as a column vector."
   ]
  },
  {
   "cell_type": "code",
   "execution_count": 9,
   "metadata": {},
   "outputs": [],
   "source": [
    "import numpy as np"
   ]
  },
  {
   "cell_type": "code",
   "execution_count": 10,
   "metadata": {},
   "outputs": [
    {
     "data": {
      "text/plain": [
       "30.0"
      ]
     },
     "execution_count": 10,
     "metadata": {},
     "output_type": "execute_result"
    }
   ],
   "source": [
    "c = np.array([1,2,3,4])\n",
    "B = np.identity(4)\n",
    "a = c.T\n",
    "\n",
    "np.dot(np.dot(a, B), c) # This is the same as the dot produt a.c"
   ]
  },
  {
   "cell_type": "markdown",
   "metadata": {},
   "source": [
    "**Exercise \\#10**\n",
    "\n",
    "Plot the functions $f_1(n) = n$ and $f_2(n) = n^2$ on the same plot, for integer $n$ in the range $0 \\rightarrow 10$. Display a legend in the upper-left corner, label the $x$-axis with $n$ and the $y$-axis with $f(n)$.\n"
   ]
  },
  {
   "cell_type": "code",
   "execution_count": 11,
   "metadata": {},
   "outputs": [],
   "source": [
    "import matplotlib.pyplot as plt"
   ]
  },
  {
   "cell_type": "code",
   "execution_count": 12,
   "metadata": {},
   "outputs": [
    {
     "data": {
      "image/png": "[encoded data removed]",
      "text/plain": [
       "<Figure size 432x288 with 1 Axes>"
      ]
     },
     "metadata": {
      "needs_background": "light"
     },
     "output_type": "display_data"
    }
   ],
   "source": [
    "plt.rc('text', usetex=True)\n",
    "plt.rc('font', family = 'serif', size=14)\n",
    "\n",
    "n = np.linspace(0, 10, 2**10)\n",
    "plt.plot(n, n, '-', n, n**2, '-')\n",
    "plt.xlabel('$n$')\n",
    "plt.ylabel('$f(n)$')\n",
    "plt.legend(['$f(n) = n$', '$f(n) = n^2$']);"
   ]
  },
  {
   "cell_type": "markdown",
   "metadata": {},
   "source": [
    "**Exercise \\#11**\n",
    "\n",
    "Plot two subplots side by side, one duplicating the figure above, and one showing the mirror-image curve (in blue), as if reflected about the vertical axis.  (In other words, while this orange curve starts out going along roughly the $45^\\circ$ line and then curves counterclockwise, the blue curve should start out heading along the $135^\\circ$ line and then curve clockwise.)"
   ]
  },
  {
   "cell_type": "code",
   "execution_count": 13,
   "metadata": {},
   "outputs": [
    {
     "data": {
      "image/png": "[encoded data removed]",
      "text/plain": [
       "<Figure size 600x400 with 2 Axes>"
      ]
     },
     "metadata": {
      "needs_background": "light"
     },
     "output_type": "display_data"
    }
   ],
   "source": [
    "r = np.linspace(0, 1, 2**10)\n",
    "theta1 = 2 * np.math.tau * r\n",
    "theta2 = -2 * np.math.tau * r + np.math.tau/2\n",
    "\n",
    "fig = plt.figure(dpi = 100)\n",
    "ax1 = fig.add_subplot(121, polar = True)\n",
    "ax1.plot(theta1, r, color = 'C1')\n",
    "ax2 = fig.add_subplot(122, polar = True)\n",
    "ax2.plot(theta2, r)\n",
    "fig.tight_layout();"
   ]
  },
  {
   "cell_type": "markdown",
   "metadata": {},
   "source": [
    "**Exercise \\#12**\n",
    "\n",
    "Suppose we want to find both the largest and smallest elements in a list.  Are two separate loops needed or can it be done in one?  In the code cell below, modify the `listLargest` code so that it prints out and returns the smallest element and its index as well as the largest element and its index.  Run the code on `randlist`.  You might want to rename the function something like `listLargeSmall`."
   ]
  },
  {
   "cell_type": "code",
   "execution_count": 14,
   "metadata": {},
   "outputs": [
    {
     "name": "stdout",
     "output_type": "stream",
     "text": [
      "The largest element in the list is 36.04831734156149\n",
      "The index of that element is 2\n",
      "The smallest element in the list is 1.0808124957974896\n",
      "The index of that element is 3\n"
     ]
    },
    {
     "data": {
      "text/plain": [
       "(36.04831734156149, 2, 1.0808124957974896, 3)"
      ]
     },
     "execution_count": 14,
     "metadata": {},
     "output_type": "execute_result"
    }
   ],
   "source": [
    "def listLargeSmall(inlist):\n",
    "    '''Find maximum value in list \"inlist\" '''\n",
    "    \n",
    "    maxVal = inlist[0]             # store first element of list as first maximum value\n",
    "    minVal = inlist[0]             # store first element of list as first minimum value\n",
    "    maxIndex = 0                   # store index of first element\n",
    "    minIndex = 0\n",
    "    listLen = len(inlist)\n",
    "    \n",
    "    for i in range(1, listLen):\n",
    "        if inlist[i] > maxVal:\n",
    "            maxVal = inlist[i]\n",
    "            maxIndex = i\n",
    "        if inlist[i] < minVal:\n",
    "            minVal = inlist[i]\n",
    "            minIndex = i\n",
    "            \n",
    "    print(\"The largest element in the list is {:}\".format(maxVal))\n",
    "    print(\"The index of that element is {:}\".format(maxIndex))\n",
    "    print(\"The smallest element in the list is {:}\".format(minVal))\n",
    "    print(\"The index of that element is {:}\".format(minIndex))\n",
    "    return maxVal, maxIndex, minVal, minIndex\n",
    "\n",
    "from numpy.random import rand, seed\n",
    "\n",
    "seed(21)\n",
    "randList = 50*rand(10)  # random numbers from 0 to 50\n",
    "\n",
    "listLargeSmall(randList)"
   ]
  },
  {
   "cell_type": "markdown",
   "metadata": {},
   "source": [
    "**Exercise \\#13**\n",
    "\n",
    "In the code cell below, modify the previous function to print out and return the largest, second-largest, and third-largest elements in a list.  Run the code on `randlist` to test it.  You might rename the function `list3Largest`."
   ]
  },
  {
   "cell_type": "code",
   "execution_count": 15,
   "metadata": {},
   "outputs": [
    {
     "name": "stdout",
     "output_type": "stream",
     "text": [
      "The largest element in the list is 36.04831734156149\n",
      "The second-largest element in the list is 33.195514731235\n",
      "The third-largest element in the list is 29.17956381092994\n"
     ]
    },
    {
     "data": {
      "text/plain": [
       "(36.04831734156149, 33.195514731235, 29.17956381092994)"
      ]
     },
     "execution_count": 15,
     "metadata": {},
     "output_type": "execute_result"
    }
   ],
   "source": [
    "def list3Largest(inList):\n",
    "    '''Find the three largest values in list \"inList\" '''\n",
    "    \n",
    "    if inList[0] > inList[1]:           # compare first two elements and store in appropriate variables\n",
    "        if inList[0] > inlist[2]:\n",
    "            largest = inList[0]\n",
    "        largest = inlist[2]\n",
    "        secondLargest = inList[0]\n",
    "        thirdLargest = inlist[1]\n",
    "    elif inList[1] > inList[2]:\n",
    "        largest = inList[1]\n",
    "        if inList[0] > inList[2]:\n",
    "            secondLargest = inList[0]\n",
    "            thirdLargest = inList[2]\n",
    "        else:\n",
    "            secondLargest = inList[2]\n",
    "            thirdLargest = inList[0]\n",
    "    else:\n",
    "        largest = inList[2]\n",
    "        secondLargest = inList[1]\n",
    "        thirdLargest = inList[0]\n",
    "                \n",
    "    listLen = len(inList)        \n",
    "    \n",
    "    for i in range(3, listLen):            # step through list elements, starting with 4th (index = 3)\n",
    "        if inList[i] > thirdLargest:\n",
    "            if inList[i] > secondLargest:      # compare current list element with smaller stored value\n",
    "                if inList[i] > largest:\n",
    "                    largest = inList[i]        # new element is larger than largest, so it replaces stored value\n",
    "                else:                          # new element is smaller than largest, but larger than ...\n",
    "                    secondLargest = inList[i]  # ... second-largest, so store it as new second-largest\n",
    "            else:\n",
    "                thirdLargest = inList[i]\n",
    "            \n",
    "    print(\"The largest element in the list is {:}\".format(largest))\n",
    "    print(\"The second-largest element in the list is {:}\".format(secondLargest))\n",
    "    print(\"The third-largest element in the list is {:}\".format(thirdLargest))\n",
    "    \n",
    "    return largest, secondLargest, thirdLargest\n",
    "\n",
    "list3Largest(randList)"
   ]
  },
  {
   "cell_type": "markdown",
   "metadata": {},
   "source": [
    "**Exercise \\#14**\n",
    "\n",
    "It might have occurred to you that a straightforward sorting algorithm could be built on a search algorithm, like the ones used earlier.  The idea is simple: search through a list to find the largest (or smallest) element, and append that element to a second, initially empty list that will hold the sorted elements.  Then remove the element just found from the original list, and repeat.\n",
    "\n",
    "Removing an element `x` from a list `mylist` is easy to do in Python, using the syntax `mylist.remove(x)`.  This won't work on a `numpy` array, so it would be good to typecast to a list whatever the user inputs, as in `myList = list(myInputs)`, where `myInputs` is the argument to the function that the user will provide.  (This should be done *inside* your function, so that the user doesn't have to do it prior to running the function.)  \n",
    "\n",
    "Write a new Python function that uses the first version of `listLargest` above to return a sorted list and test it on `randList`.  (The result should be in largest-to-smallest order.) \n"
   ]
  },
  {
   "cell_type": "code",
   "execution_count": 16,
   "metadata": {},
   "outputs": [
    {
     "data": {
      "text/plain": [
       "[36.04831734156149,\n",
       " 33.195514731235,\n",
       " 29.17956381092994,\n",
       " 15.405719661843943,\n",
       " 15.113594698230843,\n",
       " 14.455482989490843,\n",
       " 10.296138263371951,\n",
       " 2.5386628347688402,\n",
       " 2.436244040456365,\n",
       " 1.0808124957974896]"
      ]
     },
     "execution_count": 16,
     "metadata": {},
     "output_type": "execute_result"
    }
   ],
   "source": [
    "def listLargest(inlist):\n",
    "    '''Find maximum value in list \"inlist\" '''\n",
    "    \n",
    "    maxVal = inlist[0]             # store first element of list as first maximum value\n",
    "    maxIndex = 0                   # store index of first element\n",
    "    listLen = len(inlist)\n",
    "    \n",
    "    for i in range(1, listLen):\n",
    "        if inlist[i] > maxVal:\n",
    "            maxVal = inlist[i]\n",
    "            maxIndex = i\n",
    "            \n",
    "    # print(\"The largest element in the list is:\", maxVal)\n",
    "    # print(\"The index of that element is:\", maxIndex)\n",
    "                    \n",
    "    return maxVal, maxIndex\n",
    "\n",
    "def sortLargeSmall(inlist):\n",
    "    inlist = list(inlist)\n",
    "    outlist = []\n",
    "    for i in range(len(inlist)):\n",
    "        element, index = listLargest(inlist)\n",
    "        outlist.append(element)\n",
    "        inlist.remove(element)\n",
    "    return outlist\n",
    "\n",
    "sortLargeSmall(randList)"
   ]
  },
  {
   "cell_type": "markdown",
   "metadata": {},
   "source": [
    "**Exercise \\#15**\n",
    "\n",
    "Let's test how the speed of a recursive approach compared to that of a loop approach.  (a) Write a function to perform the factorial calculation using a loop.  (Include in your function the same first `if` statement in the code above to check for proper input.  This not only is a good idea; it also makes the speed comparison fairer.)  (b) Run both functions on an input of `50` to make sure they give the same output.  Do they?  (c) Using the `%timeit` magic, time both functions on the same input.  How do they compare?  (d) You might be concerned that the first `if` statement in the `fact` function slows its performance, since the `if` is checked at every level of recursion (even though it's needed only in the first function call).  Does removing it significantly affect the speed of `fact`?  What do you conclude about using recursion for this type of calculation?"
   ]
  },
  {
   "cell_type": "code",
   "execution_count": 17,
   "metadata": {},
   "outputs": [
    {
     "name": "stdout",
     "output_type": "stream",
     "text": [
      "17.5 µs ± 302 ns per loop (mean ± std. dev. of 7 runs, 100000 loops each)\n",
      "5.98 µs ± 83.3 ns per loop (mean ± std. dev. of 7 runs, 100000 loops each)\n"
     ]
    }
   ],
   "source": [
    "def fact(n):\n",
    "    if type(n) != int or n < 1:\n",
    "        return \"Input must be an integer >= 1\"\n",
    "    \n",
    "    if n == 1:\n",
    "        return 1\n",
    "    else:\n",
    "        return n * fact(n-1)\n",
    "\n",
    "def fact_loop(n):\n",
    "    if type(n) != int or n < 0:\n",
    "        return \"Input must be an integer >= 0\"\n",
    "    if n == 0 or n == 1:\n",
    "        return 1\n",
    "    else:\n",
    "        factorial = 1\n",
    "        for i in range(n):\n",
    "            factorial = factorial * (i + 1)\n",
    "        return factorial\n",
    "\n",
    "%timeit fact(50) # Removing the initial if statement shaves off about 7 or 8 microseconds per loop\n",
    "\n",
    "%timeit fact_loop(50)"
   ]
  },
  {
   "cell_type": "markdown",
   "metadata": {},
   "source": [
    "**Exercise \\#16**\n",
    "\n",
    "You must have seen this coming... write a function that uses recursion to compute $P_n(x)$ for integer $n > 1$.  ($x$ can be any real number.)  Try your function for $x = 0.5$, $n = 4$.  \n",
    "\n",
    "You can check your result by calling the `numpy` function that computes the output of a *series* of Legendre polynomials, $\\sum_{i=0}^N P_i(x)$, using the following code (`numpy` appears not to have a function to compute the output of a *single* Legendre polynomial):\n",
    "\n",
    "    from numpy.polynomial.legendre import legval\n",
    "    legval(0.5, [0, 0, 0, 0, 1])\n",
    "   \n",
    "(Here, the list `[0, 0, 0, 0, 1]` tells the function that the coefficients of the first four polynomials are $0$, while the coefficient of the fifth polynomial, $P_4(x)$, is $1$.)"
   ]
  },
  {
   "cell_type": "code",
   "execution_count": 18,
   "metadata": {},
   "outputs": [
    {
     "data": {
      "text/plain": [
       "(-0.2890625, -0.2890625)"
      ]
     },
     "execution_count": 18,
     "metadata": {},
     "output_type": "execute_result"
    }
   ],
   "source": [
    "def legendre(x, n):\n",
    "    if n == 0:\n",
    "        return 1\n",
    "    elif n == 1:\n",
    "        return x\n",
    "    return 2 * x * legendre(x, n-1) - legendre(x, n-2) - 1/n * (x * legendre(x, n-1) - legendre(x, n-2))\n",
    "\n",
    "legendre(0.5, 4), np.polynomial.legendre.legval(0.5, [0,0,0,0,1])"
   ]
  },
  {
   "cell_type": "code",
   "execution_count": null,
   "metadata": {},
   "outputs": [],
   "source": []
  }
 ],
 "metadata": {
  "kernelspec": {
   "display_name": "Python 3",
   "language": "python",
   "name": "python3"
  },
  "language_info": {
   "codemirror_mode": {
    "name": "ipython",
    "version": 3
   },
   "file_extension": ".py",
   "mimetype": "text/x-python",
   "name": "python",
   "nbconvert_exporter": "python",
   "pygments_lexer": "ipython3",
   "version": "3.8.1"
  }
 },
 "nbformat": 4,
 "nbformat_minor": 4
}
